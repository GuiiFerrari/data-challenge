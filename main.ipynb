{
 "cells": [
  {
   "cell_type": "code",
   "execution_count": 41,
   "metadata": {},
   "outputs": [],
   "source": [
    "from mysql.connector import connect, Error\n",
    "import os\n",
    "import pandas as pd\n",
    "from datetime import datetime\n",
    "import matplotlib.pyplot as plt\n",
    "\n",
    "\n",
    "def connect_to_db() -> connect:\n",
    "    \"\"\"\n",
    "    Connect to the database.\n",
    "    \"\"\"\n",
    "    # BASE_DIR = os.path.dirname(os.path.abspath(__file__))\n",
    "    with open(\"password.txt\", \"r\") as f:\n",
    "        password = f.read()\n",
    "    try:\n",
    "        db = connect(\n",
    "            host=\"35.199.127.241\",\n",
    "            user=\"looqbox-challenge\",\n",
    "            password=password,\n",
    "            database=\"looqbox_challenge\",\n",
    "        )\n",
    "    except Error as e:\n",
    "        print(e)\n",
    "        # exit(1)\n",
    "    return db"
   ]
  },
  {
   "cell_type": "code",
   "execution_count": 39,
   "metadata": {},
   "outputs": [],
   "source": [
    "def case_2(query: str, filter: list[str] = None) -> pd.DataFrame:\n",
    "    \"\"\"\n",
    "    Case 2 of the challenge.\n",
    "\n",
    "    Parameters:\n",
    "        query: str\n",
    "            Query to be executed.\n",
    "        filter: list[str]\n",
    "            List of filters.\n",
    "\n",
    "    Returns:\n",
    "        pd.DataFrame\n",
    "            Dataframe with the data.\n",
    "    \"\"\"\n",
    "    db: connect = connect_to_db()\n",
    "    with db.cursor() as cursor:\n",
    "        cursor.execute(query)\n",
    "        results: list = cursor.fetchall()\n",
    "        df = pd.DataFrame(results)\n",
    "        # Name of the columns\n",
    "        header: list = [tup[0] for tup in cursor.description]\n",
    "        df.columns = header\n",
    "    # print(df)\n",
    "    return df"
   ]
  },
  {
   "cell_type": "code",
   "execution_count": 114,
   "metadata": {},
   "outputs": [],
   "source": [
    "query_1 = \"\"\"\n",
    "    SELECT\n",
    "        STORE_CODE,\n",
    "        STORE_NAME,\n",
    "        START_DATE,\n",
    "        END_DATE,\n",
    "        BUSINESS_NAME,\n",
    "        BUSINESS_CODE\n",
    "    FROM data_store_cad\n",
    "    \"\"\"\n",
    "query_2 = \"\"\"\n",
    "    SELECT\n",
    "        STORE_CODE,\n",
    "        DATE,\n",
    "        SALES_VALUE,\n",
    "        SALES_QTY\n",
    "        FROM data_store_sales\n",
    "    WHERE DATE BETWEEN '2019-01-01' AND '2019-12-31'\n",
    "    \"\"\"\n",
    "df1: pd.DataFrame = case_2(query_1)\n",
    "df2: pd.DataFrame = case_2(query_2)"
   ]
  },
  {
   "cell_type": "code",
   "execution_count": 124,
   "metadata": {},
   "outputs": [
    {
     "name": "stdout",
     "output_type": "stream",
     "text": [
      "Index(['STORE_CODE', 'STORE_NAME', 'START_DATE', 'END_DATE', 'BUSINESS_NAME',\n",
      "       'BUSINESS_CODE'],\n",
      "      dtype='object')\n",
      "Index(['STORE_CODE', 'DATE', 'SALES_VALUE', 'SALES_QTY'], dtype='object')\n",
      "              Loja    Categoria     TM\n",
      "13           Bahia      Atacado  15.39\n",
      "17         Bangkok        Posto  13.67\n",
      "7            Belem  Proximidade  15.37\n",
      "5           Berlin  Proximidade  15.39\n",
      "14    Buenos Aires      Atacado  15.39\n",
      "1          Chicago       Varejo  15.53\n",
      "12           Dubai      Atacado  15.39\n",
      "9        Hong Kong        Farma  26.33\n",
      "8           London        Farma  28.96\n",
      "11           Madri        Farma  29.00\n",
      "18           Miami        Posto  13.67\n",
      "6         New York  Proximidade  15.39\n",
      "4            Paris  Proximidade  15.39\n",
      "10  Rio de Janeiro        Farma  29.56\n",
      "2             Roma       Varejo  15.39\n",
      "15        Salvador      Atacado  15.39\n",
      "0        Sao Paulo       Varejo  15.39\n",
      "16          Sidney        Posto  13.67\n",
      "3            Tokio       Varejo  15.39\n",
      "19       Vancouver        Posto  13.67\n"
     ]
    }
   ],
   "source": [
    "# df1[\"START_DATE\"] = df1[\"START_DATE\"].apply(lambda x: datetime.strptime(x, \"%Y-%m-%d\").date())\n",
    "# d1 = datetime.strptime('2019-01-01', format).date()\n",
    "# d2 = datetime.strptime('2019-12-31', format).date()\n",
    "# df1 = df1[df1['START_DATE'] > d1]\n",
    "# print(df1.head())\n",
    "print(df1.columns)\n",
    "# format = '%Y-%m-%d'\n",
    "# print(df2.head())\n",
    "print(df2.columns)\n",
    "d: dict = {store_name : store_code for store_code, store_name in zip(df1[\"STORE_CODE\"], df1[\"STORE_NAME\"])}\n",
    "d2: dict = {store_name : store_business for store_name, store_business in zip(df1[\"STORE_NAME\"], df1[\"BUSINESS_NAME\"])}\n",
    "store_amount: dict = {store_name : df2[\"SALES_VALUE\"].loc[df2[\"STORE_CODE\"] == d[store_name]].sum()/df2[\"SALES_QTY\"].loc[df2[\"STORE_CODE\"] == d[store_name]].sum() for store_name in d.keys()}\n",
    "df3: pd.DataFrame = pd.DataFrame()\n",
    "df3[\"Loja\"] = df1[\"STORE_NAME\"]\n",
    "df3[\"Categoria\"] = [d2[store_name] for store_name in df3[\"Loja\"]]\n",
    "df3[\"TM\"] = [f\"{store_amount[store_name]:.2f}\" for store_name in df3[\"Loja\"]]\n",
    "df3 = df3.sort_values(by = [\"Loja\"])\n",
    "print(df3)\n"
   ]
  },
  {
   "cell_type": "code",
   "execution_count": 97,
   "metadata": {},
   "outputs": [
    {
     "name": "stdout",
     "output_type": "stream",
     "text": [
      "7300\n",
      "True\n"
     ]
    }
   ],
   "source": [
    "print(sum([len(df2[\"STORE_CODE\"].loc[df2[\"STORE_CODE\"] == i]) for i in range(1, 21)]))\n",
    "print(len(sorted(df2[\"STORE_CODE\"].unique())) == 20)"
   ]
  },
  {
   "cell_type": "code",
   "execution_count": 2,
   "metadata": {},
   "outputs": [],
   "source": [
    "def do_query(db: connect, query: str) -> pd.DataFrame:\n",
    "    \"\"\"\n",
    "    Execute the query.\n",
    "\n",
    "    Parameters:\n",
    "        db: connect\n",
    "            Database connection.\n",
    "        query: str\n",
    "            Query to be executed.\n",
    "\n",
    "    Returns:\n",
    "        pd.DataFrame\n",
    "            Dataframe with the data.\n",
    "    \"\"\"\n",
    "    with db.cursor() as cursor:\n",
    "        cursor.execute(query)\n",
    "        results: list = cursor.fetchall()\n",
    "        df = pd.DataFrame(results)\n",
    "        # Name of the columns\n",
    "        header: list = [tup[0] for tup in cursor.description]\n",
    "        df.columns = header\n",
    "    return df"
   ]
  },
  {
   "cell_type": "code",
   "execution_count": 3,
   "metadata": {},
   "outputs": [
    {
     "name": "stdout",
     "output_type": "stream",
     "text": [
      "                        Genre  Year RevenueMillions\n",
      "0     Action,Adventure,Sci-Fi  2014             333\n",
      "1    Adventure,Mystery,Sci-Fi  2012             126\n",
      "2             Horror,Thriller  2016             138\n",
      "3     Animation,Comedy,Family  2016             270\n",
      "4    Action,Adventure,Fantasy  2016             325\n",
      "..                        ...   ...             ...\n",
      "995       Crime,Drama,Mystery  2015            None\n",
      "996                    Horror  2007              18\n",
      "997       Drama,Music,Romance  2008              58\n",
      "998          Adventure,Comedy  2014            None\n",
      "999     Comedy,Family,Fantasy  2016              20\n",
      "\n",
      "[1000 rows x 3 columns]\n"
     ]
    }
   ],
   "source": [
    "db: connect = connect_to_db()\n",
    "query = \"\"\"\n",
    "SELECT Genre, Year, RevenueMillions FROM IMDB_movies;\n",
    "\"\"\"\n",
    "df: pd.DataFrame = do_query(db, query)\n",
    "db.close()\n",
    "print(df)"
   ]
  },
  {
   "cell_type": "code",
   "execution_count": 45,
   "metadata": {},
   "outputs": [
    {
     "name": "stdout",
     "output_type": "stream",
     "text": [
      "Index(['Action,Adventure,Sci-Fi', 'Drama', 'Comedy,Drama,Romance', 'Comedy',\n",
      "       'Drama,Romance', 'Comedy,Drama', 'Animation,Adventure,Comedy',\n",
      "       'Action,Adventure,Fantasy', 'Comedy,Romance', 'Crime,Drama,Thriller'],\n",
      "      dtype='object')\n",
      "Action,Adventure,Sci-Fi       50\n",
      "Drama                         48\n",
      "Comedy,Drama,Romance          35\n",
      "Comedy                        32\n",
      "Drama,Romance                 31\n",
      "Comedy,Drama                  27\n",
      "Animation,Adventure,Comedy    27\n",
      "Action,Adventure,Fantasy      27\n",
      "Comedy,Romance                26\n",
      "Crime,Drama,Thriller          24\n",
      "Name: Genre, dtype: int64\n",
      "2016\n"
     ]
    }
   ],
   "source": [
    "# Gênero 1: Action, Fantasy, Sci-Fi\n",
    "df2 = df[\"Genre\"].value_counts().iloc[:10]\n",
    "print(df2.index)\n",
    "print(df2)\n",
    "# print(df[\"Genre\"].value_counts())\n",
    "print(df[\"Year\"].max())\n"
   ]
  },
  {
   "cell_type": "code",
   "execution_count": 54,
   "metadata": {},
   "outputs": [
    {
     "ename": "TypeError",
     "evalue": "'Series' objects are mutable, thus they cannot be hashed",
     "output_type": "error",
     "traceback": [
      "\u001b[1;31m---------------------------------------------------------------------------\u001b[0m",
      "\u001b[1;31mTypeError\u001b[0m                                 Traceback (most recent call last)",
      "\u001b[1;32m<ipython-input-54-d5272c0cae9c>\u001b[0m in \u001b[0;36m<module>\u001b[1;34m\u001b[0m\n\u001b[0;32m      4\u001b[0m         'Crime,Drama,Thriller']\n\u001b[0;32m      5\u001b[0m \u001b[1;32mfor\u001b[0m \u001b[0mgenre\u001b[0m \u001b[1;32min\u001b[0m \u001b[0mindex\u001b[0m\u001b[1;33m:\u001b[0m\u001b[1;33m\u001b[0m\u001b[1;33m\u001b[0m\u001b[0m\n\u001b[1;32m----> 6\u001b[1;33m     \u001b[0mprint\u001b[0m\u001b[1;33m(\u001b[0m\u001b[0mdf\u001b[0m\u001b[1;33m[\u001b[0m\u001b[1;34m\"Genre\"\u001b[0m\u001b[1;33m]\u001b[0m\u001b[1;33m.\u001b[0m\u001b[0mloc\u001b[0m\u001b[1;33m(\u001b[0m\u001b[0mdf\u001b[0m\u001b[1;33m[\u001b[0m\u001b[1;34m\"Genre\"\u001b[0m\u001b[1;33m]\u001b[0m \u001b[1;33m==\u001b[0m \u001b[0mgenre\u001b[0m\u001b[1;33m)\u001b[0m\u001b[1;33m[\u001b[0m\u001b[1;34m\"RevenueMillions\"\u001b[0m\u001b[1;33m]\u001b[0m\u001b[1;33m)\u001b[0m\u001b[1;33m\u001b[0m\u001b[1;33m\u001b[0m\u001b[0m\n\u001b[0m\u001b[0;32m      7\u001b[0m \u001b[0myears\u001b[0m\u001b[1;33m.\u001b[0m\u001b[0msort\u001b[0m\u001b[1;33m(\u001b[0m\u001b[1;33m)\u001b[0m\u001b[1;33m\u001b[0m\u001b[1;33m\u001b[0m\u001b[0m\n\u001b[0;32m      8\u001b[0m \u001b[0mprint\u001b[0m\u001b[1;33m(\u001b[0m\u001b[0myears\u001b[0m\u001b[1;33m)\u001b[0m\u001b[1;33m\u001b[0m\u001b[1;33m\u001b[0m\u001b[0m\n",
      "\u001b[1;32mc:\\Users\\guilh\\AppData\\Local\\Programs\\Python\\Python39\\lib\\site-packages\\pandas\\core\\indexing.py\u001b[0m in \u001b[0;36m__call__\u001b[1;34m(self, axis)\u001b[0m\n\u001b[0;32m    605\u001b[0m \u001b[1;33m\u001b[0m\u001b[0m\n\u001b[0;32m    606\u001b[0m         \u001b[1;32mif\u001b[0m \u001b[0maxis\u001b[0m \u001b[1;32mis\u001b[0m \u001b[1;32mnot\u001b[0m \u001b[1;32mNone\u001b[0m\u001b[1;33m:\u001b[0m\u001b[1;33m\u001b[0m\u001b[1;33m\u001b[0m\u001b[0m\n\u001b[1;32m--> 607\u001b[1;33m             \u001b[0maxis\u001b[0m \u001b[1;33m=\u001b[0m \u001b[0mself\u001b[0m\u001b[1;33m.\u001b[0m\u001b[0mobj\u001b[0m\u001b[1;33m.\u001b[0m\u001b[0m_get_axis_number\u001b[0m\u001b[1;33m(\u001b[0m\u001b[0maxis\u001b[0m\u001b[1;33m)\u001b[0m\u001b[1;33m\u001b[0m\u001b[1;33m\u001b[0m\u001b[0m\n\u001b[0m\u001b[0;32m    608\u001b[0m         \u001b[0mnew_self\u001b[0m\u001b[1;33m.\u001b[0m\u001b[0maxis\u001b[0m \u001b[1;33m=\u001b[0m \u001b[0maxis\u001b[0m\u001b[1;33m\u001b[0m\u001b[1;33m\u001b[0m\u001b[0m\n\u001b[0;32m    609\u001b[0m         \u001b[1;32mreturn\u001b[0m \u001b[0mnew_self\u001b[0m\u001b[1;33m\u001b[0m\u001b[1;33m\u001b[0m\u001b[0m\n",
      "\u001b[1;32mc:\\Users\\guilh\\AppData\\Local\\Programs\\Python\\Python39\\lib\\site-packages\\pandas\\core\\generic.py\u001b[0m in \u001b[0;36m_get_axis_number\u001b[1;34m(cls, axis)\u001b[0m\n\u001b[0;32m    458\u001b[0m     \u001b[1;32mdef\u001b[0m \u001b[0m_get_axis_number\u001b[0m\u001b[1;33m(\u001b[0m\u001b[0mcls\u001b[0m\u001b[1;33m,\u001b[0m \u001b[0maxis\u001b[0m\u001b[1;33m:\u001b[0m \u001b[0mAxis\u001b[0m\u001b[1;33m)\u001b[0m \u001b[1;33m->\u001b[0m \u001b[0mint\u001b[0m\u001b[1;33m:\u001b[0m\u001b[1;33m\u001b[0m\u001b[1;33m\u001b[0m\u001b[0m\n\u001b[0;32m    459\u001b[0m         \u001b[1;32mtry\u001b[0m\u001b[1;33m:\u001b[0m\u001b[1;33m\u001b[0m\u001b[1;33m\u001b[0m\u001b[0m\n\u001b[1;32m--> 460\u001b[1;33m             \u001b[1;32mreturn\u001b[0m \u001b[0mcls\u001b[0m\u001b[1;33m.\u001b[0m\u001b[0m_AXIS_TO_AXIS_NUMBER\u001b[0m\u001b[1;33m[\u001b[0m\u001b[0maxis\u001b[0m\u001b[1;33m]\u001b[0m\u001b[1;33m\u001b[0m\u001b[1;33m\u001b[0m\u001b[0m\n\u001b[0m\u001b[0;32m    461\u001b[0m         \u001b[1;32mexcept\u001b[0m \u001b[0mKeyError\u001b[0m\u001b[1;33m:\u001b[0m\u001b[1;33m\u001b[0m\u001b[1;33m\u001b[0m\u001b[0m\n\u001b[0;32m    462\u001b[0m             \u001b[1;32mraise\u001b[0m \u001b[0mValueError\u001b[0m\u001b[1;33m(\u001b[0m\u001b[1;34mf\"No axis named {axis} for object type {cls.__name__}\"\u001b[0m\u001b[1;33m)\u001b[0m\u001b[1;33m\u001b[0m\u001b[1;33m\u001b[0m\u001b[0m\n",
      "\u001b[1;32mc:\\Users\\guilh\\AppData\\Local\\Programs\\Python\\Python39\\lib\\site-packages\\pandas\\core\\generic.py\u001b[0m in \u001b[0;36m__hash__\u001b[1;34m(self)\u001b[0m\n\u001b[0;32m   1783\u001b[0m \u001b[1;33m\u001b[0m\u001b[0m\n\u001b[0;32m   1784\u001b[0m     \u001b[1;32mdef\u001b[0m \u001b[0m__hash__\u001b[0m\u001b[1;33m(\u001b[0m\u001b[0mself\u001b[0m\u001b[1;33m)\u001b[0m \u001b[1;33m->\u001b[0m \u001b[0mint\u001b[0m\u001b[1;33m:\u001b[0m\u001b[1;33m\u001b[0m\u001b[1;33m\u001b[0m\u001b[0m\n\u001b[1;32m-> 1785\u001b[1;33m         raise TypeError(\n\u001b[0m\u001b[0;32m   1786\u001b[0m             \u001b[1;34mf\"{repr(type(self).__name__)} objects are mutable, \"\u001b[0m\u001b[1;33m\u001b[0m\u001b[1;33m\u001b[0m\u001b[0m\n\u001b[0;32m   1787\u001b[0m             \u001b[1;34mf\"thus they cannot be hashed\"\u001b[0m\u001b[1;33m\u001b[0m\u001b[1;33m\u001b[0m\u001b[0m\n",
      "\u001b[1;31mTypeError\u001b[0m: 'Series' objects are mutable, thus they cannot be hashed"
     ]
    }
   ],
   "source": [
    "years: list[int] = df[\"Year\"].unique()\n",
    "index = ['Action,Adventure,Sci-Fi', 'Comedy,Drama,Romance',\n",
    "        'Animation,Adventure,Comedy', 'Action,Adventure,Fantasy',\n",
    "        'Crime,Drama,Thriller']\n",
    "years.sort()\n",
    "print(years)\n",
    "\n",
    "fig = plt.figure(dpi = 150)\n",
    "plt.plot(a, df[\"Year\"].value_counts())\n",
    "plt.xlabel(\"Ano\")\n",
    "plt.ylabel(\"Número de filmes\")\n",
    "plt.show()"
   ]
  },
  {
   "cell_type": "code",
   "execution_count": 59,
   "metadata": {},
   "outputs": [
    {
     "name": "stdout",
     "output_type": "stream",
     "text": [
      "Genre              Action,Adventure,Sci-FiAction,Adventure,Sci-Fi...\n",
      "Year                                                           14112\n",
      "RevenueMillions                                                 1722\n",
      "dtype: object\n"
     ]
    }
   ],
   "source": [
    "print(df.query(\"Genre == 'Action,Adventure,Sci-Fi' & Year == 2016\").sum())"
   ]
  },
  {
   "cell_type": "code",
   "execution_count": 68,
   "metadata": {},
   "outputs": [
    {
     "data": {
      "image/png": "[encoded data removed]",
      "text/plain": [
       "<Figure size 900x600 with 1 Axes>"
      ]
     },
     "metadata": {
      "needs_background": "light"
     },
     "output_type": "display_data"
    }
   ],
   "source": [
    "years: list[int] = df[\"Year\"].unique()\n",
    "index = ['Action,Adventure,Sci-Fi', 'Comedy,Drama,Romance',\n",
    "        'Animation,Adventure,Comedy', 'Action,Adventure,Fantasy',\n",
    "        'Crime,Drama,Thriller']\n",
    "years.sort()\n",
    "colors = ['blue', 'red', 'green', 'pink', 'orange']\n",
    "fig = plt.figure(dpi = 150)\n",
    "for genre, color in zip(index, colors):\n",
    "    for year in years:\n",
    "        bin = [year - 1, year + 1]\n",
    "        y = df.query(f\"Genre == '{genre}' & Year == {year}\")[\"RevenueMillions\"].sum()\n",
    "        plt.hist(y, bins = bin, color = color, label = f\"{year}\")\n",
    "plt.xlabel(\"Ano\")\n",
    "plt.ylabel(\"Receita em milhões\")\n",
    "# plt.ylim(0, 100)\n",
    "plt.show()\n",
    "\n"
   ]
  }
 ],
 "metadata": {
  "kernelspec": {
   "display_name": "Python 3.9.12 64-bit",
   "language": "python",
   "name": "python3"
  },
  "language_info": {
   "codemirror_mode": {
    "name": "ipython",
    "version": 3
   },
   "file_extension": ".py",
   "mimetype": "text/x-python",
   "name": "python",
   "nbconvert_exporter": "python",
   "pygments_lexer": "ipython3",
   "version": "3.9.12"
  },
  "orig_nbformat": 4,
  "vscode": {
   "interpreter": {
    "hash": "d8d4f25c2d3f6bca8aa7bcbfbe4444a224dbae01d9252b76d1cb37ffc52af79f"
   }
  }
 },
 "nbformat": 4,
 "nbformat_minor": 2
}
